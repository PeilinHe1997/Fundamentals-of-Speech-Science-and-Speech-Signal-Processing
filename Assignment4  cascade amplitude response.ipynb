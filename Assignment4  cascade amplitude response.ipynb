{
 "cells": [
  {
   "cell_type": "code",
   "execution_count": 106,
   "id": "5ffaecd7",
   "metadata": {},
   "outputs": [],
   "source": [
    "import matplotlib.pyplot as plt\n",
    "import numpy as np"
   ]
  },
  {
   "cell_type": "code",
   "execution_count": 107,
   "id": "5472623d",
   "metadata": {},
   "outputs": [],
   "source": [
    "x = [x for x in range(0,2100,100)]"
   ]
  },
  {
   "cell_type": "code",
   "execution_count": 108,
   "id": "6ae279b4",
   "metadata": {},
   "outputs": [
    {
     "data": {
      "text/plain": [
       "21"
      ]
     },
     "execution_count": 108,
     "metadata": {},
     "output_type": "execute_result"
    }
   ],
   "source": [
    "len(x)"
   ]
  },
  {
   "cell_type": "markdown",
   "id": "46cf0723",
   "metadata": {},
   "source": [
    "# Filter1"
   ]
  },
  {
   "cell_type": "code",
   "execution_count": 109,
   "id": "1eb88f8f",
   "metadata": {},
   "outputs": [],
   "source": [
    "b1 = 260/7\n",
    "a1 = -2/70\n",
    "y1 = [a1*x + b1 for x in range(1400,2100,100)]"
   ]
  },
  {
   "cell_type": "code",
   "execution_count": 110,
   "id": "53a8d046",
   "metadata": {},
   "outputs": [],
   "source": [
    "\n",
    "filter1 = [-30,-20,-10,0,0,0,0,0,0,0,0,0,0,0]\n",
    "for i in y1:\n",
    "    filter1.append(i)"
   ]
  },
  {
   "cell_type": "code",
   "execution_count": 111,
   "id": "7a439e30",
   "metadata": {},
   "outputs": [
    {
     "data": {
      "text/plain": [
       "[-30,\n",
       " -20,\n",
       " -10,\n",
       " 0,\n",
       " 0,\n",
       " 0,\n",
       " 0,\n",
       " 0,\n",
       " 0,\n",
       " 0,\n",
       " 0,\n",
       " 0,\n",
       " 0,\n",
       " 0,\n",
       " -2.857142857142854,\n",
       " -5.714285714285708,\n",
       " -8.57142857142857,\n",
       " -11.428571428571423,\n",
       " -14.285714285714278,\n",
       " -17.14285714285714,\n",
       " -19.999999999999993]"
      ]
     },
     "execution_count": 111,
     "metadata": {},
     "output_type": "execute_result"
    }
   ],
   "source": [
    "# output of filter1\n",
    "filter1"
   ]
  },
  {
   "cell_type": "code",
   "execution_count": 124,
   "id": "95843844",
   "metadata": {},
   "outputs": [
    {
     "data": {
      "text/plain": [
       "Text(0.5, 1.0, 'output spectrum of filter1')"
      ]
     },
     "execution_count": 124,
     "metadata": {},
     "output_type": "execute_result"
    },
    {
     "data": {
      "image/png": "[encoded data removed]",
      "text/plain": [
       "<Figure size 432x288 with 1 Axes>"
      ]
     },
     "metadata": {
      "needs_background": "light"
     },
     "output_type": "display_data"
    }
   ],
   "source": [
    "plt.plot(x,filter1)\n",
    "plt.scatter(x,filter1)\n",
    "plt.ylabel(\"gain(dB)\")\n",
    "plt.title(\"output spectrum of filter1\")"
   ]
  },
  {
   "cell_type": "markdown",
   "id": "22c8553c",
   "metadata": {},
   "source": [
    "# Filter2 (the input is filter1)"
   ]
  },
  {
   "cell_type": "markdown",
   "id": "437cc293",
   "metadata": {},
   "source": [
    "### amplitue response of filter2"
   ]
  },
  {
   "cell_type": "code",
   "execution_count": 113,
   "id": "dd03eebb",
   "metadata": {},
   "outputs": [],
   "source": [
    "b2 = 60\n",
    "a2 =  -1/20\n",
    "y2 = [a2*x + b2 for x in range(1100,2100,100)]"
   ]
  },
  {
   "cell_type": "code",
   "execution_count": 114,
   "id": "3e049a9d",
   "metadata": {},
   "outputs": [],
   "source": [
    "filter2 = [10,10,10,10,10,10,10,10,10,10,10]\n",
    "for i in y2:\n",
    "    filter2.append(i)"
   ]
  },
  {
   "cell_type": "code",
   "execution_count": 115,
   "id": "c61d3ca2",
   "metadata": {},
   "outputs": [
    {
     "data": {
      "text/plain": [
       "[10,\n",
       " 10,\n",
       " 10,\n",
       " 10,\n",
       " 10,\n",
       " 10,\n",
       " 10,\n",
       " 10,\n",
       " 10,\n",
       " 10,\n",
       " 10,\n",
       " 5.0,\n",
       " 0.0,\n",
       " -5.0,\n",
       " -10.0,\n",
       " -15.0,\n",
       " -20.0,\n",
       " -25.0,\n",
       " -30.0,\n",
       " -35.0,\n",
       " -40.0]"
      ]
     },
     "execution_count": 115,
     "metadata": {},
     "output_type": "execute_result"
    }
   ],
   "source": [
    "filter2"
   ]
  },
  {
   "cell_type": "code",
   "execution_count": 116,
   "id": "cca579fa",
   "metadata": {},
   "outputs": [
    {
     "data": {
      "text/plain": [
       "[<matplotlib.lines.Line2D at 0x23c380913a0>]"
      ]
     },
     "execution_count": 116,
     "metadata": {},
     "output_type": "execute_result"
    },
    {
     "data": {
      "image/png": "[encoded data removed]",
      "text/plain": [
       "<Figure size 432x288 with 1 Axes>"
      ]
     },
     "metadata": {
      "needs_background": "light"
     },
     "output_type": "display_data"
    }
   ],
   "source": [
    "plt.plot(x,filter2)"
   ]
  },
  {
   "cell_type": "markdown",
   "id": "cc2da005",
   "metadata": {},
   "source": [
    "### output of filter2"
   ]
  },
  {
   "cell_type": "code",
   "execution_count": 118,
   "id": "56c67d7b",
   "metadata": {},
   "outputs": [
    {
     "data": {
      "text/plain": [
       "[-20,\n",
       " -10,\n",
       " 0,\n",
       " 10,\n",
       " 10,\n",
       " 10,\n",
       " 10,\n",
       " 10,\n",
       " 10,\n",
       " 10,\n",
       " 10,\n",
       " 5.0,\n",
       " 0.0,\n",
       " -5.0,\n",
       " -12.857142857142854,\n",
       " -20.714285714285708,\n",
       " -28.57142857142857,\n",
       " -36.42857142857142,\n",
       " -44.28571428571428,\n",
       " -52.14285714285714,\n",
       " -59.99999999999999]"
      ]
     },
     "execution_count": 118,
     "metadata": {},
     "output_type": "execute_result"
    }
   ],
   "source": [
    "filter12 = filter2.copy()\n",
    "for i in range(0,21):\n",
    "    filter12[i] = filter2[i] + filter1[i]\n",
    "        \n",
    "filter12"
   ]
  },
  {
   "cell_type": "code",
   "execution_count": 119,
   "id": "44c35529",
   "metadata": {},
   "outputs": [
    {
     "data": {
      "text/plain": [
       "Text(0.5, 1.0, 'output spectrum of filter2')"
      ]
     },
     "execution_count": 119,
     "metadata": {},
     "output_type": "execute_result"
    },
    {
     "data": {
      "image/png": "[encoded data removed]",
      "text/plain": [
       "<Figure size 432x288 with 1 Axes>"
      ]
     },
     "metadata": {
      "needs_background": "light"
     },
     "output_type": "display_data"
    }
   ],
   "source": [
    "plt.plot(x,filter12)\n",
    "plt.scatter(x,filter12)\n",
    "plt.ylabel(\"gain(dB)\")\n",
    "plt.title(\"output spectrum of filter2\")"
   ]
  },
  {
   "cell_type": "markdown",
   "id": "2637c93d",
   "metadata": {},
   "source": [
    "# Filter3"
   ]
  },
  {
   "cell_type": "markdown",
   "id": "aa67df71",
   "metadata": {},
   "source": [
    "### Amplitude response of filter3"
   ]
  },
  {
   "cell_type": "code",
   "execution_count": 84,
   "id": "052748fc",
   "metadata": {},
   "outputs": [],
   "source": [
    "b3 = 20\n",
    "a3 =  -1/20\n",
    "y3 = [a3*x + b3 for x in range(0,700,100)]"
   ]
  },
  {
   "cell_type": "code",
   "execution_count": 85,
   "id": "1cf0bb5e",
   "metadata": {},
   "outputs": [],
   "source": [
    "filter3 = [-10 for x in range(700,2100,100) ]"
   ]
  },
  {
   "cell_type": "code",
   "execution_count": 86,
   "id": "1919de72",
   "metadata": {},
   "outputs": [],
   "source": [
    "for i in filter3:\n",
    "    y3.append(i)\n",
    "filter3 = y3.copy()"
   ]
  },
  {
   "cell_type": "code",
   "execution_count": 87,
   "id": "e81bf0b9",
   "metadata": {},
   "outputs": [
    {
     "data": {
      "text/plain": [
       "[20.0,\n",
       " 15.0,\n",
       " 10.0,\n",
       " 5.0,\n",
       " 0.0,\n",
       " -5.0,\n",
       " -10.0,\n",
       " -10,\n",
       " -10,\n",
       " -10,\n",
       " -10,\n",
       " -10,\n",
       " -10,\n",
       " -10,\n",
       " -10,\n",
       " -10,\n",
       " -10,\n",
       " -10,\n",
       " -10,\n",
       " -10,\n",
       " -10]"
      ]
     },
     "execution_count": 87,
     "metadata": {},
     "output_type": "execute_result"
    }
   ],
   "source": [
    "# filter amplitude response\n",
    "filter3"
   ]
  },
  {
   "cell_type": "code",
   "execution_count": 88,
   "id": "b59870c4",
   "metadata": {},
   "outputs": [
    {
     "data": {
      "text/plain": [
       "[<matplotlib.lines.Line2D at 0x23c37ecaf10>]"
      ]
     },
     "execution_count": 88,
     "metadata": {},
     "output_type": "execute_result"
    },
    {
     "data": {
      "image/png": "[encoded data removed]",
      "text/plain": [
       "<Figure size 432x288 with 1 Axes>"
      ]
     },
     "metadata": {
      "needs_background": "light"
     },
     "output_type": "display_data"
    }
   ],
   "source": [
    "plt.plot(x,filter3)"
   ]
  },
  {
   "cell_type": "markdown",
   "id": "4c4b5dd4",
   "metadata": {},
   "source": [
    "### output of filter3(input from filter12)"
   ]
  },
  {
   "cell_type": "code",
   "execution_count": 121,
   "id": "71750604",
   "metadata": {},
   "outputs": [
    {
     "data": {
      "text/plain": [
       "[0.0,\n",
       " 5.0,\n",
       " 10.0,\n",
       " 15.0,\n",
       " 10.0,\n",
       " 5.0,\n",
       " 0.0,\n",
       " 0,\n",
       " 0,\n",
       " 0,\n",
       " 0,\n",
       " -5.0,\n",
       " -10.0,\n",
       " -15.0,\n",
       " -22.857142857142854,\n",
       " -30.714285714285708,\n",
       " -38.57142857142857,\n",
       " -46.42857142857142,\n",
       " -54.28571428571428,\n",
       " -62.14285714285714,\n",
       " -70.0]"
      ]
     },
     "execution_count": 121,
     "metadata": {},
     "output_type": "execute_result"
    }
   ],
   "source": [
    "filter123 = filter12.copy()\n",
    "for i in range(0,21):\n",
    "    filter123[i] = filter3[i]+filter12[i]\n",
    "        \n",
    "filter123"
   ]
  },
  {
   "cell_type": "code",
   "execution_count": 122,
   "id": "c8c64f16",
   "metadata": {},
   "outputs": [],
   "source": [
    "impuse_frequency = [0 for x in range(0,2100,100)]"
   ]
  },
  {
   "cell_type": "code",
   "execution_count": 123,
   "id": "1e0561c0",
   "metadata": {},
   "outputs": [
    {
     "data": {
      "text/plain": [
       "Text(0.5, 1.0, 'output spectrum of filter3')"
      ]
     },
     "execution_count": 123,
     "metadata": {},
     "output_type": "execute_result"
    },
    {
     "data": {
      "image/png": "[encoded data removed]",
      "text/plain": [
       "<Figure size 432x288 with 1 Axes>"
      ]
     },
     "metadata": {
      "needs_background": "light"
     },
     "output_type": "display_data"
    }
   ],
   "source": [
    "plt.plot(x,filter123)\n",
    "plt.scatter(x,filter123)\n",
    "plt.ylabel(\"gain(dB)\")\n",
    "plt.title(\"output spectrum of filter3\")"
   ]
  },
  {
   "cell_type": "markdown",
   "id": "ee4c8dc1",
   "metadata": {},
   "source": [
    "# Reversed"
   ]
  },
  {
   "cell_type": "code",
   "execution_count": 125,
   "id": "e808de63",
   "metadata": {},
   "outputs": [
    {
     "data": {
      "text/plain": [
       "[-20,\n",
       " -10,\n",
       " 0,\n",
       " 10,\n",
       " 10,\n",
       " 10,\n",
       " 10,\n",
       " 10,\n",
       " 10,\n",
       " 10,\n",
       " 10,\n",
       " 5.0,\n",
       " 0.0,\n",
       " -5.0,\n",
       " -12.857142857142854,\n",
       " -20.714285714285708,\n",
       " -28.57142857142857,\n",
       " -36.42857142857142,\n",
       " -44.28571428571428,\n",
       " -52.14285714285714,\n",
       " -59.99999999999999]"
      ]
     },
     "execution_count": 125,
     "metadata": {},
     "output_type": "execute_result"
    }
   ],
   "source": [
    "filter21 = filter2.copy()\n",
    "for i in range(0,21):\n",
    "    filter21[i] = filter2[i] + filter1[i]\n",
    "        \n",
    "filter21"
   ]
  },
  {
   "cell_type": "code",
   "execution_count": 129,
   "id": "a2c54875",
   "metadata": {},
   "outputs": [
    {
     "data": {
      "text/plain": [
       "Text(0.5, 1.0, 'output spectrum of filter1(the reversed order)')"
      ]
     },
     "execution_count": 129,
     "metadata": {},
     "output_type": "execute_result"
    },
    {
     "data": {
      "image/png": "[encoded data removed]",
      "text/plain": [
       "<Figure size 432x288 with 1 Axes>"
      ]
     },
     "metadata": {
      "needs_background": "light"
     },
     "output_type": "display_data"
    }
   ],
   "source": [
    "plt.plot(x,filter21)\n",
    "plt.scatter(x,filter21)\n",
    "plt.ylabel(\"gain(dB)\")\n",
    "plt.title(\"output spectrum of filter1(the reversed order)\")"
   ]
  },
  {
   "cell_type": "code",
   "execution_count": 126,
   "id": "2d782eff",
   "metadata": {},
   "outputs": [
    {
     "data": {
      "text/plain": [
       "[0.0,\n",
       " 5.0,\n",
       " 10.0,\n",
       " 15.0,\n",
       " 10.0,\n",
       " 5.0,\n",
       " 0.0,\n",
       " 0,\n",
       " 0,\n",
       " 0,\n",
       " 0,\n",
       " -5.0,\n",
       " -10.0,\n",
       " -15.0,\n",
       " -22.857142857142854,\n",
       " -30.714285714285708,\n",
       " -38.57142857142857,\n",
       " -46.42857142857142,\n",
       " -54.28571428571428,\n",
       " -62.14285714285714,\n",
       " -70.0]"
      ]
     },
     "execution_count": 126,
     "metadata": {},
     "output_type": "execute_result"
    }
   ],
   "source": [
    "filter213 = filter21.copy()\n",
    "for i in range(0,21):\n",
    "    filter213[i] = filter3[i]+filter21[i]\n",
    "filter213"
   ]
  },
  {
   "cell_type": "code",
   "execution_count": 127,
   "id": "601ebaf7",
   "metadata": {},
   "outputs": [
    {
     "data": {
      "text/plain": [
       "Text(0.5, 1.0, 'output spectrum of filter3(the reversed order)')"
      ]
     },
     "execution_count": 127,
     "metadata": {},
     "output_type": "execute_result"
    },
    {
     "data": {
      "image/png": "[encoded data removed]",
      "text/plain": [
       "<Figure size 432x288 with 1 Axes>"
      ]
     },
     "metadata": {
      "needs_background": "light"
     },
     "output_type": "display_data"
    }
   ],
   "source": [
    "plt.plot(x,filter123)\n",
    "plt.scatter(x,filter123)\n",
    "plt.ylabel(\"gain(dB)\")\n",
    "plt.title(\"output spectrum of filter3(the reversed order)\")"
   ]
  },
  {
   "cell_type": "code",
   "execution_count": null,
   "id": "b2e32f8c",
   "metadata": {},
   "outputs": [],
   "source": []
  }
 ],
 "metadata": {
  "kernelspec": {
   "display_name": "Python 3 (ipykernel)",
   "language": "python",
   "name": "python3"
  },
  "language_info": {
   "codemirror_mode": {
    "name": "ipython",
    "version": 3
   },
   "file_extension": ".py",
   "mimetype": "text/x-python",
   "name": "python",
   "nbconvert_exporter": "python",
   "pygments_lexer": "ipython3",
   "version": "3.9.7"
  }
 },
 "nbformat": 4,
 "nbformat_minor": 5
}
